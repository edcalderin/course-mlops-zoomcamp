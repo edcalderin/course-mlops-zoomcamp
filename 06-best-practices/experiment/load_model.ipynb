{
 "cells": [
  {
   "cell_type": "code",
   "execution_count": 9,
   "id": "d84f7be2",
   "metadata": {},
   "outputs": [],
   "source": [
    "import mlflow\n",
    "import os\n",
    "\n",
    "os.environ['AWS_PROFILE'] = 'mlflow-profile'\n",
    "TRACKING_URL = \"ec2-3-15-226-79.us-east-2.compute.amazonaws.com:5000\""
   ]
  },
  {
   "cell_type": "code",
   "execution_count": 10,
   "id": "293ac71d",
   "metadata": {},
   "outputs": [],
   "source": [
    "run_id = '77fb2593f2ad4558b83b7718643a8ed8'\n",
    "logged_model = f's3://mlflow-artifacts-erick/1/{run_id}/artifacts/artifacts/model_mlflow'\n",
    "\n",
    "loaded_model = mlflow.pyfunc.load_model(logged_model)"
   ]
  },
  {
   "cell_type": "code",
   "execution_count": 11,
   "id": "aaf7ad20",
   "metadata": {},
   "outputs": [],
   "source": [
    "request = {\n",
    "    'lpep_pickup_datetime': '2021-01-01 00:15:56',\n",
    "    'PULocationID': 43,\n",
    "    'DOLocationID': 151,\n",
    "    'passenger_count': 1.0,\n",
    "    'trip_distance': 1.01\n",
    "}"
   ]
  },
  {
   "cell_type": "code",
   "execution_count": 12,
   "id": "ed9a9a23",
   "metadata": {},
   "outputs": [],
   "source": [
    "request = {'PULocationID': '23', 'DOLocationID': '12', 'trip_distance': 4}\n",
    "def preprocess(self, ride):\n",
    "    features = {}\n",
    "    features['PU_DO'] = '%s_%s' % (ride['PULocationID'], ride['DOLocationID'])\n",
    "    features['trip_distance'] = ride['trip_distance']\n",
    "    return features\n",
    "\n",
    "features = preprocess(_, request)"
   ]
  },
  {
   "cell_type": "code",
   "execution_count": 13,
   "id": "0b3a195c",
   "metadata": {},
   "outputs": [
    {
     "data": {
      "text/plain": [
       "array([20.00271636])"
      ]
     },
     "execution_count": 13,
     "metadata": {},
     "output_type": "execute_result"
    }
   ],
   "source": [
    "loaded_model.predict(features)"
   ]
  }
 ],
 "metadata": {
  "kernelspec": {
   "display_name": "Python 3 (ipykernel)",
   "language": "python",
   "name": "python3"
  },
  "language_info": {
   "codemirror_mode": {
    "name": "ipython",
    "version": 3
   },
   "file_extension": ".py",
   "mimetype": "text/x-python",
   "name": "python",
   "nbconvert_exporter": "python",
   "pygments_lexer": "ipython3",
   "version": "3.10.0"
  }
 },
 "nbformat": 4,
 "nbformat_minor": 5
}
