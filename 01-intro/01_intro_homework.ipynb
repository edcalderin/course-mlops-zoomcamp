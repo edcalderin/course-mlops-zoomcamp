{
  "cells": [
    {
      "cell_type": "markdown",
      "metadata": {
        "colab_type": "text",
        "id": "view-in-github"
      },
      "source": [
        "<a href=\"https://colab.research.google.com/github/edcalderin/course-mlops-zoomcamp/blob/master/homeworks/01_intro_homework.ipynb\" target=\"_parent\"><img src=\"https://colab.research.google.com/assets/colab-badge.svg\" alt=\"Open In Colab\"/></a>"
      ]
    },
    {
      "cell_type": "markdown",
      "metadata": {
        "id": "hCizePfVqxpP"
      },
      "source": [
        "# Homework\n",
        "The goal of this homework is to train a simple model for predicting the duration of a ride - similar to what we did in this module."
      ]
    },
    {
      "cell_type": "markdown",
      "metadata": {
        "id": "5BZjBNq6rurp"
      },
      "source": [
        "## Q1. Downloading the data\n",
        "We'll use the same NYC taxi dataset, but instead of \"Green Taxi Trip Records\", we'll use \"Yellow Taxi Trip Records\".\n",
        "\n",
        "Download the data for January and February 2022."
      ]
    },
    {
      "cell_type": "code",
      "execution_count": 93,
      "metadata": {
        "colab": {
          "base_uri": "https://localhost:8080/"
        },
        "id": "H_-BYo0qq2Dh",
        "outputId": "c106fd72-aa05-4ad9-d6e2-7e59dc20c1ca"
      },
      "outputs": [
        {
          "name": "stderr",
          "output_type": "stream",
          "text": [
            "Ya existe el subdirectorio o el archivo data.\n"
          ]
        },
        {
          "name": "stdout",
          "output_type": "stream",
          "text": [
            "\n",
            "Saved under data/yellow_tripdata_2022-01.parquet\n"
          ]
        }
      ],
      "source": [
        "!mkdir data\n",
        "!python -m wget -o data https://d37ci6vzurychx.cloudfront.net/trip-data/yellow_tripdata_2022-01.parquet"
      ]
    },
    {
      "cell_type": "code",
      "execution_count": 2,
      "metadata": {
        "id": "Il-kCHbgrA8z"
      },
      "outputs": [],
      "source": [
        "import pandas as pd"
      ]
    },
    {
      "cell_type": "code",
      "execution_count": 97,
      "metadata": {
        "colab": {
          "base_uri": "https://localhost:8080/",
          "height": 270
        },
        "id": "JHdcw1anrGHJ",
        "outputId": "7244c053-c2eb-4e7e-ae4c-1559b3511b20"
      },
      "outputs": [
        {
          "data": {
            "text/html": [
              "<div>\n",
              "<style scoped>\n",
              "    .dataframe tbody tr th:only-of-type {\n",
              "        vertical-align: middle;\n",
              "    }\n",
              "\n",
              "    .dataframe tbody tr th {\n",
              "        vertical-align: top;\n",
              "    }\n",
              "\n",
              "    .dataframe thead th {\n",
              "        text-align: right;\n",
              "    }\n",
              "</style>\n",
              "<table border=\"1\" class=\"dataframe\">\n",
              "  <thead>\n",
              "    <tr style=\"text-align: right;\">\n",
              "      <th></th>\n",
              "      <th>VendorID</th>\n",
              "      <th>tpep_pickup_datetime</th>\n",
              "      <th>tpep_dropoff_datetime</th>\n",
              "      <th>passenger_count</th>\n",
              "      <th>trip_distance</th>\n",
              "      <th>RatecodeID</th>\n",
              "      <th>store_and_fwd_flag</th>\n",
              "      <th>PULocationID</th>\n",
              "      <th>DOLocationID</th>\n",
              "      <th>payment_type</th>\n",
              "      <th>fare_amount</th>\n",
              "      <th>extra</th>\n",
              "      <th>mta_tax</th>\n",
              "      <th>tip_amount</th>\n",
              "      <th>tolls_amount</th>\n",
              "      <th>improvement_surcharge</th>\n",
              "      <th>total_amount</th>\n",
              "      <th>congestion_surcharge</th>\n",
              "      <th>airport_fee</th>\n",
              "    </tr>\n",
              "  </thead>\n",
              "  <tbody>\n",
              "    <tr>\n",
              "      <th>0</th>\n",
              "      <td>1</td>\n",
              "      <td>2022-01-01 00:35:40</td>\n",
              "      <td>2022-01-01 00:53:29</td>\n",
              "      <td>2.0</td>\n",
              "      <td>3.80</td>\n",
              "      <td>1.0</td>\n",
              "      <td>N</td>\n",
              "      <td>142</td>\n",
              "      <td>236</td>\n",
              "      <td>1</td>\n",
              "      <td>14.5</td>\n",
              "      <td>3.0</td>\n",
              "      <td>0.5</td>\n",
              "      <td>3.65</td>\n",
              "      <td>0.0</td>\n",
              "      <td>0.3</td>\n",
              "      <td>21.95</td>\n",
              "      <td>2.5</td>\n",
              "      <td>0.0</td>\n",
              "    </tr>\n",
              "    <tr>\n",
              "      <th>1</th>\n",
              "      <td>1</td>\n",
              "      <td>2022-01-01 00:33:43</td>\n",
              "      <td>2022-01-01 00:42:07</td>\n",
              "      <td>1.0</td>\n",
              "      <td>2.10</td>\n",
              "      <td>1.0</td>\n",
              "      <td>N</td>\n",
              "      <td>236</td>\n",
              "      <td>42</td>\n",
              "      <td>1</td>\n",
              "      <td>8.0</td>\n",
              "      <td>0.5</td>\n",
              "      <td>0.5</td>\n",
              "      <td>4.00</td>\n",
              "      <td>0.0</td>\n",
              "      <td>0.3</td>\n",
              "      <td>13.30</td>\n",
              "      <td>0.0</td>\n",
              "      <td>0.0</td>\n",
              "    </tr>\n",
              "    <tr>\n",
              "      <th>2</th>\n",
              "      <td>2</td>\n",
              "      <td>2022-01-01 00:53:21</td>\n",
              "      <td>2022-01-01 01:02:19</td>\n",
              "      <td>1.0</td>\n",
              "      <td>0.97</td>\n",
              "      <td>1.0</td>\n",
              "      <td>N</td>\n",
              "      <td>166</td>\n",
              "      <td>166</td>\n",
              "      <td>1</td>\n",
              "      <td>7.5</td>\n",
              "      <td>0.5</td>\n",
              "      <td>0.5</td>\n",
              "      <td>1.76</td>\n",
              "      <td>0.0</td>\n",
              "      <td>0.3</td>\n",
              "      <td>10.56</td>\n",
              "      <td>0.0</td>\n",
              "      <td>0.0</td>\n",
              "    </tr>\n",
              "    <tr>\n",
              "      <th>3</th>\n",
              "      <td>2</td>\n",
              "      <td>2022-01-01 00:25:21</td>\n",
              "      <td>2022-01-01 00:35:23</td>\n",
              "      <td>1.0</td>\n",
              "      <td>1.09</td>\n",
              "      <td>1.0</td>\n",
              "      <td>N</td>\n",
              "      <td>114</td>\n",
              "      <td>68</td>\n",
              "      <td>2</td>\n",
              "      <td>8.0</td>\n",
              "      <td>0.5</td>\n",
              "      <td>0.5</td>\n",
              "      <td>0.00</td>\n",
              "      <td>0.0</td>\n",
              "      <td>0.3</td>\n",
              "      <td>11.80</td>\n",
              "      <td>2.5</td>\n",
              "      <td>0.0</td>\n",
              "    </tr>\n",
              "    <tr>\n",
              "      <th>4</th>\n",
              "      <td>2</td>\n",
              "      <td>2022-01-01 00:36:48</td>\n",
              "      <td>2022-01-01 01:14:20</td>\n",
              "      <td>1.0</td>\n",
              "      <td>4.30</td>\n",
              "      <td>1.0</td>\n",
              "      <td>N</td>\n",
              "      <td>68</td>\n",
              "      <td>163</td>\n",
              "      <td>1</td>\n",
              "      <td>23.5</td>\n",
              "      <td>0.5</td>\n",
              "      <td>0.5</td>\n",
              "      <td>3.00</td>\n",
              "      <td>0.0</td>\n",
              "      <td>0.3</td>\n",
              "      <td>30.30</td>\n",
              "      <td>2.5</td>\n",
              "      <td>0.0</td>\n",
              "    </tr>\n",
              "  </tbody>\n",
              "</table>\n",
              "</div>"
            ],
            "text/plain": [
              "   VendorID tpep_pickup_datetime tpep_dropoff_datetime  passenger_count   \n",
              "0         1  2022-01-01 00:35:40   2022-01-01 00:53:29              2.0  \\\n",
              "1         1  2022-01-01 00:33:43   2022-01-01 00:42:07              1.0   \n",
              "2         2  2022-01-01 00:53:21   2022-01-01 01:02:19              1.0   \n",
              "3         2  2022-01-01 00:25:21   2022-01-01 00:35:23              1.0   \n",
              "4         2  2022-01-01 00:36:48   2022-01-01 01:14:20              1.0   \n",
              "\n",
              "   trip_distance  RatecodeID store_and_fwd_flag  PULocationID  DOLocationID   \n",
              "0           3.80         1.0                  N           142           236  \\\n",
              "1           2.10         1.0                  N           236            42   \n",
              "2           0.97         1.0                  N           166           166   \n",
              "3           1.09         1.0                  N           114            68   \n",
              "4           4.30         1.0                  N            68           163   \n",
              "\n",
              "   payment_type  fare_amount  extra  mta_tax  tip_amount  tolls_amount   \n",
              "0             1         14.5    3.0      0.5        3.65           0.0  \\\n",
              "1             1          8.0    0.5      0.5        4.00           0.0   \n",
              "2             1          7.5    0.5      0.5        1.76           0.0   \n",
              "3             2          8.0    0.5      0.5        0.00           0.0   \n",
              "4             1         23.5    0.5      0.5        3.00           0.0   \n",
              "\n",
              "   improvement_surcharge  total_amount  congestion_surcharge  airport_fee  \n",
              "0                    0.3         21.95                   2.5          0.0  \n",
              "1                    0.3         13.30                   0.0          0.0  \n",
              "2                    0.3         10.56                   0.0          0.0  \n",
              "3                    0.3         11.80                   2.5          0.0  \n",
              "4                    0.3         30.30                   2.5          0.0  "
            ]
          },
          "execution_count": 97,
          "metadata": {},
          "output_type": "execute_result"
        }
      ],
      "source": [
        "data_january = pd.read_parquet('./data/yellow_tripdata_2022-01.parquet')\n",
        "data_january.head()"
      ]
    },
    {
      "cell_type": "markdown",
      "metadata": {
        "id": "syI03JTnrOo7"
      },
      "source": [
        "Read the data for January. How many columns are there?\n",
        "\n",
        "* 16\n",
        "* 17\n",
        "* 18\n",
        "* 19"
      ]
    },
    {
      "cell_type": "code",
      "execution_count": 5,
      "metadata": {
        "colab": {
          "base_uri": "https://localhost:8080/"
        },
        "id": "zCiKI8qMrVdF",
        "outputId": "d8cacb76-90e9-4c2c-a3eb-e218484ba7d0"
      },
      "outputs": [
        {
          "data": {
            "text/plain": [
              "19"
            ]
          },
          "execution_count": 5,
          "metadata": {},
          "output_type": "execute_result"
        }
      ],
      "source": [
        "len(data_january.columns)"
      ]
    },
    {
      "cell_type": "markdown",
      "metadata": {
        "id": "-u3FgSohwvnU"
      },
      "source": [
        "## Q2. Computing duration\n",
        "Now let's compute the duration variable. It should contain the duration of a ride in minutes.\n",
        "\n",
        "What's the standard deviation of the trips duration in January?\n",
        "\n",
        "* 41.45\n",
        "* 46.45\n",
        "* 51.45\n",
        "* 56.45"
      ]
    },
    {
      "cell_type": "code",
      "execution_count": 98,
      "metadata": {
        "id": "Am6QoDik7Mwq"
      },
      "outputs": [],
      "source": [
        "def calculate_duration(df:pd.DataFrame):\n",
        "    duration = df['tpep_dropoff_datetime'] - df['tpep_pickup_datetime']\n",
        "    return duration.dt.total_seconds().div(60).astype(int)"
      ]
    },
    {
      "cell_type": "code",
      "execution_count": 99,
      "metadata": {
        "id": "1pinNGSBwxjx"
      },
      "outputs": [],
      "source": [
        "data_january['duration'] = calculate_duration(data_january)"
      ]
    },
    {
      "cell_type": "code",
      "execution_count": 8,
      "metadata": {
        "colab": {
          "base_uri": "https://localhost:8080/"
        },
        "id": "xhaZ3T2QySHX",
        "outputId": "f51a4c43-f3a7-4d3f-812c-0c299512c430"
      },
      "outputs": [
        {
          "name": "stdout",
          "output_type": "stream",
          "text": [
            "46.45\n"
          ]
        }
      ],
      "source": [
        "print(data_january.duration.std().round(2))"
      ]
    },
    {
      "cell_type": "markdown",
      "metadata": {
        "id": "VClObpSIrcd9"
      },
      "source": [
        "## Q3. Dropping outliers\n",
        "Next, we need to check the distribution of the duration variable. There are some outliers. Let's remove them and keep only the records where the duration was between 1 and 60 minutes (inclusive).\n",
        "\n",
        "What fraction of the records left after you dropped the outliers?\n",
        "\n",
        "* 90%\n",
        "* 92%\n",
        "* 95%\n",
        "* 98%"
      ]
    },
    {
      "cell_type": "code",
      "execution_count": 100,
      "metadata": {
        "colab": {
          "base_uri": "https://localhost:8080/"
        },
        "id": "QjSfjn3kyck0",
        "outputId": "a92dac2b-8c48-424b-db4d-4cf4ab90d43c"
      },
      "outputs": [
        {
          "data": {
            "text/plain": [
              "is_outlier\n",
              "False    0.98352\n",
              "True     0.01648\n",
              "Name: proportion, dtype: float64"
            ]
          },
          "execution_count": 100,
          "metadata": {},
          "output_type": "execute_result"
        }
      ],
      "source": [
        "data_january['is_outlier'] = (data_january.duration<1) | (data_january.duration>60)\n",
        "data_january.is_outlier.value_counts(normalize=True)"
      ]
    },
    {
      "cell_type": "code",
      "execution_count": 101,
      "metadata": {
        "colab": {
          "base_uri": "https://localhost:8080/"
        },
        "id": "5rNU6a7S31D0",
        "outputId": "742f1bab-dcc4-4d74-d1f5-587de8ec6df9"
      },
      "outputs": [
        {
          "data": {
            "text/plain": [
              "(2423325, 21)"
            ]
          },
          "execution_count": 101,
          "metadata": {},
          "output_type": "execute_result"
        }
      ],
      "source": [
        "data_january = data_january[~data_january.is_outlier]\n",
        "data_january.shape"
      ]
    },
    {
      "cell_type": "markdown",
      "metadata": {
        "id": "7w9iQU_O0tpc"
      },
      "source": [
        "## Q4. One-hot encoding\n",
        "Let's apply one-hot encoding to the pickup and dropoff location IDs. We'll use only these two features for our model.\n",
        "\n",
        "* Turn the dataframe into a list of dictionaries\n",
        "* Fit a dictionary vectorizer\n",
        "* Get a feature matrix from it\n",
        "\n",
        "What's the dimensionality of this matrix (number of columns)?\n",
        "\n",
        "* 2\n",
        "* 155\n",
        "* 345\n",
        "* 515\n",
        "* 715"
      ]
    },
    {
      "cell_type": "code",
      "execution_count": 102,
      "metadata": {
        "id": "cKky5i-d0xR8"
      },
      "outputs": [],
      "source": [
        "def convert_to_dicts(df:pd.DataFrame, category_names=['PULocationID', 'DOLocationID']):\n",
        "    df[category_names] = df[category_names].astype('str')\n",
        "\n",
        "    return df[category_names].to_dict(orient='records')"
      ]
    },
    {
      "cell_type": "code",
      "execution_count": 103,
      "metadata": {
        "colab": {
          "base_uri": "https://localhost:8080/"
        },
        "id": "g2IKnphIKv2Z",
        "outputId": "d7c2ed43-b840-4da9-d85b-2d39f4d8b521"
      },
      "outputs": [
        {
          "data": {
            "text/plain": [
              "['DOLocationID=1',\n",
              " 'DOLocationID=10',\n",
              " 'DOLocationID=100',\n",
              " 'DOLocationID=101',\n",
              " 'DOLocationID=102',\n",
              " 'DOLocationID=105',\n",
              " 'DOLocationID=106',\n",
              " 'DOLocationID=107',\n",
              " 'DOLocationID=108',\n",
              " 'DOLocationID=109']"
            ]
          },
          "execution_count": 103,
          "metadata": {},
          "output_type": "execute_result"
        }
      ],
      "source": [
        "from sklearn.feature_extraction import DictVectorizer\n",
        "\n",
        "dv = DictVectorizer()\n",
        "\n",
        "X_train = dv.fit_transform(convert_to_dicts(data_january))\n",
        "\n",
        "[fn for fn in dv.feature_names_[:10]]"
      ]
    },
    {
      "cell_type": "code",
      "execution_count": 41,
      "metadata": {
        "colab": {
          "base_uri": "https://localhost:8080/"
        },
        "id": "ira2W6D811B6",
        "outputId": "2a91f0e4-b0c4-46b7-a02f-bbd83392bff0"
      },
      "outputs": [
        {
          "data": {
            "text/plain": [
              "515"
            ]
          },
          "execution_count": 41,
          "metadata": {},
          "output_type": "execute_result"
        }
      ],
      "source": [
        "len(dv.feature_names_)"
      ]
    },
    {
      "cell_type": "markdown",
      "metadata": {
        "id": "OZeWW_tI2xmZ"
      },
      "source": [
        "## Q5. Training a model\n",
        "Now let's use the feature matrix from the previous step to train a model.\n",
        "\n",
        "* Train a plain linear regression model with default parameters\n",
        "* Calculate the RMSE of the model on the training data  \n",
        "\n",
        "What's the RMSE on train?\n",
        "\n",
        "* 6.99\n",
        "* 11.99\n",
        "* 16.99\n",
        "* 21.99"
      ]
    },
    {
      "cell_type": "code",
      "execution_count": 104,
      "metadata": {
        "colab": {
          "base_uri": "https://localhost:8080/"
        },
        "id": "UYkW7Clv24aU",
        "outputId": "3144c36f-0b56-488a-c4a3-f2d7cb32433a"
      },
      "outputs": [
        {
          "name": "stdout",
          "output_type": "stream",
          "text": [
            "7.0167202695956865\n"
          ]
        }
      ],
      "source": [
        "from sklearn.linear_model import LinearRegression\n",
        "from sklearn.metrics import mean_squared_error\n",
        "\n",
        "# Model creation\n",
        "lr_model = LinearRegression()\n",
        "\n",
        "# Training\n",
        "y = data_january.duration\n",
        "lr_model.fit(X_train, y)\n",
        "\n",
        "# Evaluation\n",
        "\n",
        "def rmse(model, feature_matrix, y):\n",
        "    predicted = model.predict(feature_matrix)\n",
        "\n",
        "    rmse = mean_squared_error(y, predicted, squared=False)\n",
        "    return rmse\n",
        "\n",
        "print(rmse(lr_model, X_train, data_january.duration))"
      ]
    },
    {
      "cell_type": "markdown",
      "metadata": {
        "id": "oMwQ2Qyd6VA8"
      },
      "source": [
        "## Q6. Evaluating the model\n",
        "Now let's apply this model to the validation dataset (February 2022).\n",
        "\n",
        "What's the RMSE on validation?\n",
        "\n",
        "* 7.79\n",
        "* 12.79\n",
        "* 17.79\n",
        "* 22.79"
      ]
    },
    {
      "cell_type": "code",
      "execution_count": 94,
      "metadata": {
        "colab": {
          "base_uri": "https://localhost:8080/"
        },
        "id": "jRa0rp4N5LYm",
        "outputId": "01b2b7c3-75b9-4a25-838a-8f7afc485659"
      },
      "outputs": [
        {
          "name": "stdout",
          "output_type": "stream",
          "text": [
            "\n",
            "Saved under data/yellow_tripdata_2022-02.parquet\n"
          ]
        }
      ],
      "source": [
        "!python -m wget -o data https://d37ci6vzurychx.cloudfront.net/trip-data/yellow_tripdata_2022-02.parquet"
      ]
    },
    {
      "cell_type": "code",
      "execution_count": 105,
      "metadata": {
        "colab": {
          "base_uri": "https://localhost:8080/"
        },
        "id": "a3dB9GAR6eQL",
        "outputId": "ab211109-e6dc-483f-cdce-44f4255c8f20"
      },
      "outputs": [
        {
          "name": "stdout",
          "output_type": "stream",
          "text": [
            "7.827338705733996\n"
          ]
        }
      ],
      "source": [
        "data_february = pd.read_parquet('./data/yellow_tripdata_2022-02.parquet')\n",
        "\n",
        "# Calculating duration\n",
        "data_february['duration'] = calculate_duration(data_february)\n",
        "\n",
        "# Dropping outliers\n",
        "data_february = data_february[(data_february.duration>=1) & (data_february.duration<=60)]\n",
        "\n",
        "# Transforming february's data\n",
        "X_test = dv.transform(convert_to_dicts(data_february))\n",
        "\n",
        "# Evaluating\n",
        "print(rmse(lr_model, X_test, data_february.duration))"
      ]
    },
    {
      "cell_type": "markdown",
      "metadata": {
        "id": "fp_xdPFf83rV"
      },
      "source": [
        "Answer: 7.79"
      ]
    },
    {
      "cell_type": "markdown",
      "metadata": {
        "id": "w5kF6_kqFmb6"
      },
      "source": [
        "## Persisting model"
      ]
    },
    {
      "cell_type": "code",
      "execution_count": 109,
      "metadata": {
        "id": "PM0EU30pOrOr"
      },
      "outputs": [],
      "source": [
        "!mkdir models"
      ]
    },
    {
      "cell_type": "code",
      "execution_count": 111,
      "metadata": {
        "id": "iop_nyI8FqNn"
      },
      "outputs": [],
      "source": [
        "import pickle\n",
        "\n",
        "FILE_NAME = \"models/lin_reg.bin\"\n",
        "\n",
        "with open(FILE_NAME, 'wb') as file:\n",
        "    pickle.dump((dv, lr_model), file)"
      ]
    },
    {
      "cell_type": "code",
      "execution_count": 112,
      "metadata": {
        "colab": {
          "base_uri": "https://localhost:8080/"
        },
        "id": "aFDQlIF-O7eh",
        "outputId": "a709f257-8e65-45f0-e8eb-aafd7ae57231"
      },
      "outputs": [
        {
          "name": "stdout",
          "output_type": "stream",
          "text": [
            "os.stat_result(st_mode=33206, st_ino=35184372089190499, st_dev=4272072175, st_nlink=1, st_uid=0, st_gid=0, st_size=17369, st_atime=1684714255, st_mtime=1684714255, st_ctime=1684714255)\n",
            "File Size in KiloBytes is 16.9619140625\n"
          ]
        }
      ],
      "source": [
        "# get file size in python\n",
        "import os\n",
        "\n",
        "file_stats = os.stat(FILE_NAME)\n",
        "\n",
        "print(file_stats)\n",
        "print(f'File Size in KiloBytes is {file_stats.st_size / (1024)}')"
      ]
    }
  ],
  "metadata": {
    "colab": {
      "authorship_tag": "ABX9TyNfjuTwzMbg59e0DeOQ4r6v",
      "include_colab_link": true,
      "mount_file_id": "1NQvkgcR0X-l8GylrThz9BjVbK-jwv6vU",
      "provenance": []
    },
    "kernelspec": {
      "display_name": "Python 3",
      "name": "python3"
    },
    "language_info": {
      "codemirror_mode": {
        "name": "ipython",
        "version": 3
      },
      "file_extension": ".py",
      "mimetype": "text/x-python",
      "name": "python",
      "nbconvert_exporter": "python",
      "pygments_lexer": "ipython3",
      "version": "3.9.7"
    }
  },
  "nbformat": 4,
  "nbformat_minor": 0
}
