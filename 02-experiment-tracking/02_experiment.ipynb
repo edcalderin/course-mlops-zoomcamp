{
  "cells": [
    {
      "attachments": {},
      "cell_type": "markdown",
      "metadata": {
        "colab_type": "text",
        "id": "view-in-github"
      },
      "source": [
        "<a href=\"https://colab.research.google.com/github/edcalderin/course-mlops-zoomcamp/blob/master/homeworks/01_intro_homework.ipynb\" target=\"_parent\"><img src=\"https://colab.research.google.com/assets/colab-badge.svg\" alt=\"Open In Colab\"/></a>"
      ]
    },
    {
      "attachments": {},
      "cell_type": "markdown",
      "metadata": {
        "id": "hCizePfVqxpP"
      },
      "source": [
        "# Experimenting tracking"
      ]
    },
    {
      "attachments": {},
      "cell_type": "markdown",
      "metadata": {
        "id": "5BZjBNq6rurp"
      },
      "source": [
        "## Downloading the data"
      ]
    },
    {
      "cell_type": "code",
      "execution_count": 22,
      "metadata": {
        "colab": {
          "base_uri": "https://localhost:8080/"
        },
        "id": "H_-BYo0qq2Dh",
        "outputId": "c106fd72-aa05-4ad9-d6e2-7e59dc20c1ca"
      },
      "outputs": [],
      "source": [
        "%%capture\n",
        "!mkdir data\n",
        "!python -m wget -o data https://d37ci6vzurychx.cloudfront.net/trip-data/yellow_tripdata_2022-01.parquet\n",
        "!python -m wget -o data https://d37ci6vzurychx.cloudfront.net/trip-data/yellow_tripdata_2022-02.parquet"
      ]
    },
    {
      "cell_type": "code",
      "execution_count": 1,
      "metadata": {
        "id": "Il-kCHbgrA8z"
      },
      "outputs": [],
      "source": [
        "import pandas as pd\n",
        "import pickle\n",
        "from sklearn.feature_extraction import DictVectorizer\n",
        "from sklearn.linear_model import LinearRegression\n",
        "from sklearn.metrics import mean_squared_error"
      ]
    },
    {
      "cell_type": "code",
      "execution_count": 2,
      "metadata": {},
      "outputs": [
        {
          "data": {
            "text/plain": [
              "<Experiment: artifact_location='file:///c:/Users/Erick/Projects/course-mlops-zoomcamp/02-experiment-tracking/mlruns/1', creation_time=1684721319647, experiment_id='1', last_update_time=1684721319647, lifecycle_stage='active', name='my-experiment', tags={}>"
            ]
          },
          "execution_count": 2,
          "metadata": {},
          "output_type": "execute_result"
        }
      ],
      "source": [
        "import mlflow\n",
        "\n",
        "mlflow.set_tracking_uri('sqlite:///mlflow.db')\n",
        "mlflow.set_experiment('my-experiment')"
      ]
    },
    {
      "attachments": {},
      "cell_type": "markdown",
      "metadata": {},
      "source": [
        "## Reading data"
      ]
    },
    {
      "cell_type": "code",
      "execution_count": 5,
      "metadata": {},
      "outputs": [
        {
          "data": {
            "text/html": [
              "<div>\n",
              "<style scoped>\n",
              "    .dataframe tbody tr th:only-of-type {\n",
              "        vertical-align: middle;\n",
              "    }\n",
              "\n",
              "    .dataframe tbody tr th {\n",
              "        vertical-align: top;\n",
              "    }\n",
              "\n",
              "    .dataframe thead th {\n",
              "        text-align: right;\n",
              "    }\n",
              "</style>\n",
              "<table border=\"1\" class=\"dataframe\">\n",
              "  <thead>\n",
              "    <tr style=\"text-align: right;\">\n",
              "      <th></th>\n",
              "      <th>VendorID</th>\n",
              "      <th>lpep_pickup_datetime</th>\n",
              "      <th>lpep_dropoff_datetime</th>\n",
              "      <th>store_and_fwd_flag</th>\n",
              "      <th>RatecodeID</th>\n",
              "      <th>PULocationID</th>\n",
              "      <th>DOLocationID</th>\n",
              "      <th>passenger_count</th>\n",
              "      <th>trip_distance</th>\n",
              "      <th>fare_amount</th>\n",
              "      <th>extra</th>\n",
              "      <th>mta_tax</th>\n",
              "      <th>tip_amount</th>\n",
              "      <th>tolls_amount</th>\n",
              "      <th>ehail_fee</th>\n",
              "      <th>improvement_surcharge</th>\n",
              "      <th>total_amount</th>\n",
              "      <th>payment_type</th>\n",
              "      <th>trip_type</th>\n",
              "      <th>congestion_surcharge</th>\n",
              "    </tr>\n",
              "  </thead>\n",
              "  <tbody>\n",
              "    <tr>\n",
              "      <th>0</th>\n",
              "      <td>2</td>\n",
              "      <td>2022-01-01 00:14:21</td>\n",
              "      <td>2022-01-01 00:15:33</td>\n",
              "      <td>N</td>\n",
              "      <td>1.0</td>\n",
              "      <td>42</td>\n",
              "      <td>42</td>\n",
              "      <td>1.0</td>\n",
              "      <td>0.44</td>\n",
              "      <td>3.5</td>\n",
              "      <td>0.50</td>\n",
              "      <td>0.5</td>\n",
              "      <td>0.00</td>\n",
              "      <td>0.0</td>\n",
              "      <td>None</td>\n",
              "      <td>0.3</td>\n",
              "      <td>4.80</td>\n",
              "      <td>2.0</td>\n",
              "      <td>1.0</td>\n",
              "      <td>0.00</td>\n",
              "    </tr>\n",
              "    <tr>\n",
              "      <th>1</th>\n",
              "      <td>1</td>\n",
              "      <td>2022-01-01 00:20:55</td>\n",
              "      <td>2022-01-01 00:29:38</td>\n",
              "      <td>N</td>\n",
              "      <td>1.0</td>\n",
              "      <td>116</td>\n",
              "      <td>41</td>\n",
              "      <td>1.0</td>\n",
              "      <td>2.10</td>\n",
              "      <td>9.5</td>\n",
              "      <td>0.50</td>\n",
              "      <td>0.5</td>\n",
              "      <td>0.00</td>\n",
              "      <td>0.0</td>\n",
              "      <td>None</td>\n",
              "      <td>0.3</td>\n",
              "      <td>10.80</td>\n",
              "      <td>2.0</td>\n",
              "      <td>1.0</td>\n",
              "      <td>0.00</td>\n",
              "    </tr>\n",
              "    <tr>\n",
              "      <th>2</th>\n",
              "      <td>1</td>\n",
              "      <td>2022-01-01 00:57:02</td>\n",
              "      <td>2022-01-01 01:13:14</td>\n",
              "      <td>N</td>\n",
              "      <td>1.0</td>\n",
              "      <td>41</td>\n",
              "      <td>140</td>\n",
              "      <td>1.0</td>\n",
              "      <td>3.70</td>\n",
              "      <td>14.5</td>\n",
              "      <td>3.25</td>\n",
              "      <td>0.5</td>\n",
              "      <td>4.60</td>\n",
              "      <td>0.0</td>\n",
              "      <td>None</td>\n",
              "      <td>0.3</td>\n",
              "      <td>23.15</td>\n",
              "      <td>1.0</td>\n",
              "      <td>1.0</td>\n",
              "      <td>2.75</td>\n",
              "    </tr>\n",
              "    <tr>\n",
              "      <th>3</th>\n",
              "      <td>2</td>\n",
              "      <td>2022-01-01 00:07:42</td>\n",
              "      <td>2022-01-01 00:15:57</td>\n",
              "      <td>N</td>\n",
              "      <td>1.0</td>\n",
              "      <td>181</td>\n",
              "      <td>181</td>\n",
              "      <td>1.0</td>\n",
              "      <td>1.69</td>\n",
              "      <td>8.0</td>\n",
              "      <td>0.50</td>\n",
              "      <td>0.5</td>\n",
              "      <td>0.00</td>\n",
              "      <td>0.0</td>\n",
              "      <td>None</td>\n",
              "      <td>0.3</td>\n",
              "      <td>9.30</td>\n",
              "      <td>2.0</td>\n",
              "      <td>1.0</td>\n",
              "      <td>0.00</td>\n",
              "    </tr>\n",
              "    <tr>\n",
              "      <th>4</th>\n",
              "      <td>2</td>\n",
              "      <td>2022-01-01 00:07:50</td>\n",
              "      <td>2022-01-01 00:28:52</td>\n",
              "      <td>N</td>\n",
              "      <td>1.0</td>\n",
              "      <td>33</td>\n",
              "      <td>170</td>\n",
              "      <td>1.0</td>\n",
              "      <td>6.26</td>\n",
              "      <td>22.0</td>\n",
              "      <td>0.50</td>\n",
              "      <td>0.5</td>\n",
              "      <td>5.21</td>\n",
              "      <td>0.0</td>\n",
              "      <td>None</td>\n",
              "      <td>0.3</td>\n",
              "      <td>31.26</td>\n",
              "      <td>1.0</td>\n",
              "      <td>1.0</td>\n",
              "      <td>2.75</td>\n",
              "    </tr>\n",
              "  </tbody>\n",
              "</table>\n",
              "</div>"
            ],
            "text/plain": [
              "   VendorID lpep_pickup_datetime lpep_dropoff_datetime store_and_fwd_flag   \n",
              "0         2  2022-01-01 00:14:21   2022-01-01 00:15:33                  N  \\\n",
              "1         1  2022-01-01 00:20:55   2022-01-01 00:29:38                  N   \n",
              "2         1  2022-01-01 00:57:02   2022-01-01 01:13:14                  N   \n",
              "3         2  2022-01-01 00:07:42   2022-01-01 00:15:57                  N   \n",
              "4         2  2022-01-01 00:07:50   2022-01-01 00:28:52                  N   \n",
              "\n",
              "   RatecodeID  PULocationID  DOLocationID  passenger_count  trip_distance   \n",
              "0         1.0            42            42              1.0           0.44  \\\n",
              "1         1.0           116            41              1.0           2.10   \n",
              "2         1.0            41           140              1.0           3.70   \n",
              "3         1.0           181           181              1.0           1.69   \n",
              "4         1.0            33           170              1.0           6.26   \n",
              "\n",
              "   fare_amount  extra  mta_tax  tip_amount  tolls_amount ehail_fee   \n",
              "0          3.5   0.50      0.5        0.00           0.0      None  \\\n",
              "1          9.5   0.50      0.5        0.00           0.0      None   \n",
              "2         14.5   3.25      0.5        4.60           0.0      None   \n",
              "3          8.0   0.50      0.5        0.00           0.0      None   \n",
              "4         22.0   0.50      0.5        5.21           0.0      None   \n",
              "\n",
              "   improvement_surcharge  total_amount  payment_type  trip_type   \n",
              "0                    0.3          4.80           2.0        1.0  \\\n",
              "1                    0.3         10.80           2.0        1.0   \n",
              "2                    0.3         23.15           1.0        1.0   \n",
              "3                    0.3          9.30           2.0        1.0   \n",
              "4                    0.3         31.26           1.0        1.0   \n",
              "\n",
              "   congestion_surcharge  \n",
              "0                  0.00  \n",
              "1                  0.00  \n",
              "2                  2.75  \n",
              "3                  0.00  \n",
              "4                  2.75  "
            ]
          },
          "execution_count": 5,
          "metadata": {},
          "output_type": "execute_result"
        }
      ],
      "source": [
        "green_tripdata_2022 = pd.read_parquet('./data/green/green_tripdata_2022-01.parquet')\n",
        "green_tripdata_2022.head()"
      ]
    },
    {
      "cell_type": "code",
      "execution_count": 3,
      "metadata": {
        "colab": {
          "base_uri": "https://localhost:8080/",
          "height": 270
        },
        "id": "JHdcw1anrGHJ",
        "outputId": "7244c053-c2eb-4e7e-ae4c-1559b3511b20"
      },
      "outputs": [
        {
          "data": {
            "text/html": [
              "<div>\n",
              "<style scoped>\n",
              "    .dataframe tbody tr th:only-of-type {\n",
              "        vertical-align: middle;\n",
              "    }\n",
              "\n",
              "    .dataframe tbody tr th {\n",
              "        vertical-align: top;\n",
              "    }\n",
              "\n",
              "    .dataframe thead th {\n",
              "        text-align: right;\n",
              "    }\n",
              "</style>\n",
              "<table border=\"1\" class=\"dataframe\">\n",
              "  <thead>\n",
              "    <tr style=\"text-align: right;\">\n",
              "      <th></th>\n",
              "      <th>VendorID</th>\n",
              "      <th>tpep_pickup_datetime</th>\n",
              "      <th>tpep_dropoff_datetime</th>\n",
              "      <th>passenger_count</th>\n",
              "      <th>trip_distance</th>\n",
              "      <th>RatecodeID</th>\n",
              "      <th>store_and_fwd_flag</th>\n",
              "      <th>PULocationID</th>\n",
              "      <th>DOLocationID</th>\n",
              "      <th>payment_type</th>\n",
              "      <th>fare_amount</th>\n",
              "      <th>extra</th>\n",
              "      <th>mta_tax</th>\n",
              "      <th>tip_amount</th>\n",
              "      <th>tolls_amount</th>\n",
              "      <th>improvement_surcharge</th>\n",
              "      <th>total_amount</th>\n",
              "      <th>congestion_surcharge</th>\n",
              "      <th>airport_fee</th>\n",
              "    </tr>\n",
              "  </thead>\n",
              "  <tbody>\n",
              "    <tr>\n",
              "      <th>0</th>\n",
              "      <td>1</td>\n",
              "      <td>2022-01-01 00:35:40</td>\n",
              "      <td>2022-01-01 00:53:29</td>\n",
              "      <td>2.0</td>\n",
              "      <td>3.80</td>\n",
              "      <td>1.0</td>\n",
              "      <td>N</td>\n",
              "      <td>142</td>\n",
              "      <td>236</td>\n",
              "      <td>1</td>\n",
              "      <td>14.5</td>\n",
              "      <td>3.0</td>\n",
              "      <td>0.5</td>\n",
              "      <td>3.65</td>\n",
              "      <td>0.0</td>\n",
              "      <td>0.3</td>\n",
              "      <td>21.95</td>\n",
              "      <td>2.5</td>\n",
              "      <td>0.0</td>\n",
              "    </tr>\n",
              "    <tr>\n",
              "      <th>1</th>\n",
              "      <td>1</td>\n",
              "      <td>2022-01-01 00:33:43</td>\n",
              "      <td>2022-01-01 00:42:07</td>\n",
              "      <td>1.0</td>\n",
              "      <td>2.10</td>\n",
              "      <td>1.0</td>\n",
              "      <td>N</td>\n",
              "      <td>236</td>\n",
              "      <td>42</td>\n",
              "      <td>1</td>\n",
              "      <td>8.0</td>\n",
              "      <td>0.5</td>\n",
              "      <td>0.5</td>\n",
              "      <td>4.00</td>\n",
              "      <td>0.0</td>\n",
              "      <td>0.3</td>\n",
              "      <td>13.30</td>\n",
              "      <td>0.0</td>\n",
              "      <td>0.0</td>\n",
              "    </tr>\n",
              "    <tr>\n",
              "      <th>2</th>\n",
              "      <td>2</td>\n",
              "      <td>2022-01-01 00:53:21</td>\n",
              "      <td>2022-01-01 01:02:19</td>\n",
              "      <td>1.0</td>\n",
              "      <td>0.97</td>\n",
              "      <td>1.0</td>\n",
              "      <td>N</td>\n",
              "      <td>166</td>\n",
              "      <td>166</td>\n",
              "      <td>1</td>\n",
              "      <td>7.5</td>\n",
              "      <td>0.5</td>\n",
              "      <td>0.5</td>\n",
              "      <td>1.76</td>\n",
              "      <td>0.0</td>\n",
              "      <td>0.3</td>\n",
              "      <td>10.56</td>\n",
              "      <td>0.0</td>\n",
              "      <td>0.0</td>\n",
              "    </tr>\n",
              "    <tr>\n",
              "      <th>3</th>\n",
              "      <td>2</td>\n",
              "      <td>2022-01-01 00:25:21</td>\n",
              "      <td>2022-01-01 00:35:23</td>\n",
              "      <td>1.0</td>\n",
              "      <td>1.09</td>\n",
              "      <td>1.0</td>\n",
              "      <td>N</td>\n",
              "      <td>114</td>\n",
              "      <td>68</td>\n",
              "      <td>2</td>\n",
              "      <td>8.0</td>\n",
              "      <td>0.5</td>\n",
              "      <td>0.5</td>\n",
              "      <td>0.00</td>\n",
              "      <td>0.0</td>\n",
              "      <td>0.3</td>\n",
              "      <td>11.80</td>\n",
              "      <td>2.5</td>\n",
              "      <td>0.0</td>\n",
              "    </tr>\n",
              "    <tr>\n",
              "      <th>4</th>\n",
              "      <td>2</td>\n",
              "      <td>2022-01-01 00:36:48</td>\n",
              "      <td>2022-01-01 01:14:20</td>\n",
              "      <td>1.0</td>\n",
              "      <td>4.30</td>\n",
              "      <td>1.0</td>\n",
              "      <td>N</td>\n",
              "      <td>68</td>\n",
              "      <td>163</td>\n",
              "      <td>1</td>\n",
              "      <td>23.5</td>\n",
              "      <td>0.5</td>\n",
              "      <td>0.5</td>\n",
              "      <td>3.00</td>\n",
              "      <td>0.0</td>\n",
              "      <td>0.3</td>\n",
              "      <td>30.30</td>\n",
              "      <td>2.5</td>\n",
              "      <td>0.0</td>\n",
              "    </tr>\n",
              "  </tbody>\n",
              "</table>\n",
              "</div>"
            ],
            "text/plain": [
              "   VendorID tpep_pickup_datetime tpep_dropoff_datetime  passenger_count   \n",
              "0         1  2022-01-01 00:35:40   2022-01-01 00:53:29              2.0  \\\n",
              "1         1  2022-01-01 00:33:43   2022-01-01 00:42:07              1.0   \n",
              "2         2  2022-01-01 00:53:21   2022-01-01 01:02:19              1.0   \n",
              "3         2  2022-01-01 00:25:21   2022-01-01 00:35:23              1.0   \n",
              "4         2  2022-01-01 00:36:48   2022-01-01 01:14:20              1.0   \n",
              "\n",
              "   trip_distance  RatecodeID store_and_fwd_flag  PULocationID  DOLocationID   \n",
              "0           3.80         1.0                  N           142           236  \\\n",
              "1           2.10         1.0                  N           236            42   \n",
              "2           0.97         1.0                  N           166           166   \n",
              "3           1.09         1.0                  N           114            68   \n",
              "4           4.30         1.0                  N            68           163   \n",
              "\n",
              "   payment_type  fare_amount  extra  mta_tax  tip_amount  tolls_amount   \n",
              "0             1         14.5    3.0      0.5        3.65           0.0  \\\n",
              "1             1          8.0    0.5      0.5        4.00           0.0   \n",
              "2             1          7.5    0.5      0.5        1.76           0.0   \n",
              "3             2          8.0    0.5      0.5        0.00           0.0   \n",
              "4             1         23.5    0.5      0.5        3.00           0.0   \n",
              "\n",
              "   improvement_surcharge  total_amount  congestion_surcharge  airport_fee  \n",
              "0                    0.3         21.95                   2.5          0.0  \n",
              "1                    0.3         13.30                   0.0          0.0  \n",
              "2                    0.3         10.56                   0.0          0.0  \n",
              "3                    0.3         11.80                   2.5          0.0  \n",
              "4                    0.3         30.30                   2.5          0.0  "
            ]
          },
          "execution_count": 3,
          "metadata": {},
          "output_type": "execute_result"
        }
      ],
      "source": [
        "data_january = pd.read_parquet('data/yellow_tripdata_2022-01.parquet')\n",
        "data_january.head()"
      ]
    },
    {
      "attachments": {},
      "cell_type": "markdown",
      "metadata": {
        "id": "-u3FgSohwvnU"
      },
      "source": [
        "## Computing duration\n",
        "Now let's compute the duration variable. It should contain the duration of a ride in minutes."
      ]
    },
    {
      "cell_type": "code",
      "execution_count": 6,
      "metadata": {
        "id": "Am6QoDik7Mwq"
      },
      "outputs": [],
      "source": [
        "def calculate_duration(df:pd.DataFrame):\n",
        "    duration = df['tpep_dropoff_datetime'] - df['tpep_pickup_datetime']\n",
        "    return duration.dt.total_seconds().div(60).astype(int)\n",
        "\n",
        "data_january['duration'] = calculate_duration(data_january)"
      ]
    },
    {
      "attachments": {},
      "cell_type": "markdown",
      "metadata": {
        "id": "VClObpSIrcd9"
      },
      "source": [
        "## Dropping outliers\n",
        "Next, we need to check the distribution of the duration variable. There are some outliers. Let's remove them and keep only the records where the duration was between 1 and 60 minutes (inclusive)."
      ]
    },
    {
      "cell_type": "code",
      "execution_count": 7,
      "metadata": {
        "colab": {
          "base_uri": "https://localhost:8080/"
        },
        "id": "QjSfjn3kyck0",
        "outputId": "a92dac2b-8c48-424b-db4d-4cf4ab90d43c"
      },
      "outputs": [
        {
          "data": {
            "text/plain": [
              "(2423325, 20)"
            ]
          },
          "execution_count": 7,
          "metadata": {},
          "output_type": "execute_result"
        }
      ],
      "source": [
        "data_january = data_january[(data_january.duration>=1) & (data_january.duration<=60)]\n",
        "data_january.shape"
      ]
    },
    {
      "attachments": {},
      "cell_type": "markdown",
      "metadata": {
        "id": "7w9iQU_O0tpc"
      },
      "source": [
        "## One-hot encoding"
      ]
    },
    {
      "cell_type": "code",
      "execution_count": 8,
      "metadata": {
        "id": "cKky5i-d0xR8"
      },
      "outputs": [],
      "source": [
        "def convert_to_dicts(df:pd.DataFrame, category_names=['PULocationID', 'DOLocationID']):\n",
        "    df[category_names] = df[category_names].astype('str')\n",
        "\n",
        "    return df[category_names].to_dict(orient='records')"
      ]
    },
    {
      "cell_type": "code",
      "execution_count": 9,
      "metadata": {
        "colab": {
          "base_uri": "https://localhost:8080/"
        },
        "id": "g2IKnphIKv2Z",
        "outputId": "d7c2ed43-b840-4da9-d85b-2d39f4d8b521"
      },
      "outputs": [
        {
          "data": {
            "text/plain": [
              "['DOLocationID=1',\n",
              " 'DOLocationID=10',\n",
              " 'DOLocationID=100',\n",
              " 'DOLocationID=101',\n",
              " 'DOLocationID=102',\n",
              " 'DOLocationID=105',\n",
              " 'DOLocationID=106',\n",
              " 'DOLocationID=107',\n",
              " 'DOLocationID=108',\n",
              " 'DOLocationID=109']"
            ]
          },
          "execution_count": 9,
          "metadata": {},
          "output_type": "execute_result"
        }
      ],
      "source": [
        "dv = DictVectorizer()\n",
        "\n",
        "X_train = dv.fit_transform(convert_to_dicts(data_january))\n",
        "\n",
        "[fn for fn in dv.feature_names_[:10]]"
      ]
    },
    {
      "attachments": {},
      "cell_type": "markdown",
      "metadata": {
        "id": "OZeWW_tI2xmZ"
      },
      "source": [
        "## Training a model"
      ]
    },
    {
      "cell_type": "code",
      "execution_count": 10,
      "metadata": {
        "colab": {
          "base_uri": "https://localhost:8080/"
        },
        "id": "UYkW7Clv24aU",
        "outputId": "3144c36f-0b56-488a-c4a3-f2d7cb32433a"
      },
      "outputs": [
        {
          "name": "stdout",
          "output_type": "stream",
          "text": [
            "7.0167202695956865\n"
          ]
        }
      ],
      "source": [
        "# Model creation\n",
        "lr_model = LinearRegression()\n",
        "\n",
        "# Training\n",
        "y_train = data_january.duration\n",
        "lr_model.fit(X_train, y_train)\n",
        "\n",
        "# Evaluation\n",
        "\n",
        "def rmse(model, feature_matrix, y):\n",
        "    predicted = model.predict(feature_matrix)\n",
        "\n",
        "    return mean_squared_error(y, predicted, squared=False)\n",
        "\n",
        "print(rmse(lr_model, X_train, data_january.duration))"
      ]
    },
    {
      "attachments": {},
      "cell_type": "markdown",
      "metadata": {
        "id": "oMwQ2Qyd6VA8"
      },
      "source": [
        "## Evaluating the model"
      ]
    },
    {
      "cell_type": "code",
      "execution_count": 19,
      "metadata": {
        "colab": {
          "base_uri": "https://localhost:8080/"
        },
        "id": "a3dB9GAR6eQL",
        "outputId": "ab211109-e6dc-483f-cdce-44f4255c8f20"
      },
      "outputs": [
        {
          "name": "stdout",
          "output_type": "stream",
          "text": [
            "7.827338705733996\n"
          ]
        }
      ],
      "source": [
        "data_february = pd.read_parquet('data/yellow_tripdata_2022-02.parquet')\n",
        "\n",
        "# Calculating duration\n",
        "data_february['duration'] = calculate_duration(data_february)\n",
        "\n",
        "# Dropping outliers\n",
        "data_february = data_february[(data_february.duration>=1) & (data_february.duration<=60)]\n",
        "\n",
        "# Transforming february's data\n",
        "X_test, y_test = dv.transform(convert_to_dicts(data_february)), data_february.duration\n",
        "\n",
        "rmse_value = rmse(lr_model, X_test, y_test)\n",
        "# Evaluating\n",
        "print(rmse_value)"
      ]
    },
    {
      "attachments": {},
      "cell_type": "markdown",
      "metadata": {
        "id": "w5kF6_kqFmb6"
      },
      "source": [
        "## Persisting model"
      ]
    },
    {
      "cell_type": "code",
      "execution_count": null,
      "metadata": {
        "id": "PM0EU30pOrOr"
      },
      "outputs": [],
      "source": [
        "!mkdir models"
      ]
    },
    {
      "cell_type": "code",
      "execution_count": null,
      "metadata": {
        "id": "iop_nyI8FqNn"
      },
      "outputs": [],
      "source": [
        "FILE_NAME = \"models/lin_reg.bin\"\n",
        "\n",
        "with open(FILE_NAME, 'wb') as file:\n",
        "    pickle.dump((dv, lr_model), file)"
      ]
    },
    {
      "cell_type": "code",
      "execution_count": 12,
      "metadata": {},
      "outputs": [],
      "source": [
        "with mlflow.start_run():\n",
        "    mlflow.set_tag('developer', 'erick')\n",
        "    \n",
        "    mlflow.log_param('train_path', 'data/yellow_tripdata_2022-01.parquet')\n",
        "    mlflow.log_param('test_path', 'data/yellow_tripdata_2022-02.parquet')\n",
        "    \n",
        "    mlflow.log_metric('rmse', rmse_value)"
      ]
    },
    {
      "attachments": {},
      "cell_type": "markdown",
      "metadata": {},
      "source": [
        "## XGBoost"
      ]
    },
    {
      "cell_type": "code",
      "execution_count": 13,
      "metadata": {},
      "outputs": [],
      "source": [
        "import xgboost as xgb\n",
        "from hyperopt import hp, STATUS_OK, fmin, Trials, tpe\n",
        "from hyperopt.pyll import scope"
      ]
    },
    {
      "cell_type": "code",
      "execution_count": 27,
      "metadata": {},
      "outputs": [],
      "source": [
        "train_matrix = xgb.DMatrix(X_train, label=y_train)\n",
        "test_matrix = xgb.DMatrix(X_test, label=y_test)"
      ]
    },
    {
      "cell_type": "code",
      "execution_count": 45,
      "metadata": {},
      "outputs": [],
      "source": [
        "def objective(params):\n",
        "    with mlflow.start_run():\n",
        "        \n",
        "        mlflow.set_tag(\"model\", \"xgboost\")\n",
        "        mlflow.log_params(params)\n",
        "        \n",
        "        booster = xgb.train(\n",
        "            params=params,\n",
        "            dtrain=train_matrix,\n",
        "            num_boost_round=10,\n",
        "            evals=[(test_matrix, 'validation')],\n",
        "            early_stopping_rounds=5\n",
        "        )\n",
        "        \n",
        "        y_pred = booster.predict(test_matrix)\n",
        "        \n",
        "        rmse = mean_squared_error(y_test, y_pred, squared=False)\n",
        "        \n",
        "        mlflow.log_metric(\"rmse\", rmse)\n",
        "\n",
        "    return {'loss': rmse, 'status': STATUS_OK}"
      ]
    },
    {
      "cell_type": "code",
      "execution_count": 46,
      "metadata": {},
      "outputs": [
        {
          "name": "stdout",
          "output_type": "stream",
          "text": [
            "[0]\tvalidation-rmse:12.49952                         \n",
            "[1]\tvalidation-rmse:10.04046                         \n",
            "[2]\tvalidation-rmse:8.68651                          \n",
            "[3]\tvalidation-rmse:7.44227                          \n",
            "[4]\tvalidation-rmse:6.95380                          \n",
            "[5]\tvalidation-rmse:6.62929                          \n",
            "[6]\tvalidation-rmse:6.41935                          \n",
            "[7]\tvalidation-rmse:6.30227                          \n",
            "[8]\tvalidation-rmse:5.97770                          \n",
            "[9]\tvalidation-rmse:5.92859                          \n",
            "[0]\tvalidation-rmse:10.49337                                                  \n",
            "[1]\tvalidation-rmse:7.56423                                                   \n",
            "[2]\tvalidation-rmse:6.70396                                                   \n",
            "[3]\tvalidation-rmse:6.36022                                                   \n",
            "[4]\tvalidation-rmse:6.07183                                                   \n",
            "[5]\tvalidation-rmse:5.98620                                                   \n",
            "[6]\tvalidation-rmse:5.93793                                                   \n",
            "[7]\tvalidation-rmse:5.72271                                                   \n",
            "[8]\tvalidation-rmse:5.69945                                                   \n",
            "[9]\tvalidation-rmse:5.69025                                                   \n",
            "[0]\tvalidation-rmse:14.51713                                                  \n",
            "[1]\tvalidation-rmse:13.15536                                                  \n",
            "[2]\tvalidation-rmse:12.01624                                                  \n",
            "[3]\tvalidation-rmse:11.07900                                                  \n",
            "[4]\tvalidation-rmse:10.16516                                                  \n",
            "[5]\tvalidation-rmse:9.54841                                                   \n",
            "[6]\tvalidation-rmse:8.84161                                                   \n",
            "[7]\tvalidation-rmse:8.28042                                                   \n",
            "[8]\tvalidation-rmse:7.93971                                                   \n",
            "[9]\tvalidation-rmse:7.52346                                                   \n",
            "[0]\tvalidation-rmse:14.34405                                                  \n",
            "[1]\tvalidation-rmse:12.88025                                                  \n",
            "[2]\tvalidation-rmse:11.67443                                                  \n",
            "[3]\tvalidation-rmse:10.53951                                                  \n",
            "[4]\tvalidation-rmse:9.77421                                                   \n",
            "[5]\tvalidation-rmse:8.95243                                                   \n",
            "[6]\tvalidation-rmse:8.33355                                                   \n",
            "[7]\tvalidation-rmse:7.94055                                                   \n",
            "[8]\tvalidation-rmse:7.61440                                                   \n",
            "[9]\tvalidation-rmse:7.36719                                                   \n",
            "[0]\tvalidation-rmse:7.63105                                                   \n",
            "[1]\tvalidation-rmse:5.99642                                                   \n",
            "[2]\tvalidation-rmse:5.84064                                                   \n",
            "[3]\tvalidation-rmse:5.70418                                                   \n",
            "[4]\tvalidation-rmse:5.59496                                                   \n",
            "[5]\tvalidation-rmse:5.56796                                                   \n",
            "[6]\tvalidation-rmse:5.51850                                                   \n",
            "[7]\tvalidation-rmse:5.50006                                                   \n",
            "[8]\tvalidation-rmse:5.49717                                                   \n",
            "[9]\tvalidation-rmse:5.49229                                                   \n",
            "100%|██████████| 5/5 [04:13<00:00, 50.70s/trial, best loss: 5.492287355066948]\n"
          ]
        }
      ],
      "source": [
        "search_space = {\n",
        "    'max_depth': scope.int(hp.quniform('max_depth', 4, 100, 1)),\n",
        "    'learning_rate': hp.loguniform('learning_rate', -3, 0),\n",
        "    'seed': 42\n",
        "}\n",
        "\n",
        "best_result = fmin(\n",
        "    fn=objective,\n",
        "    space=search_space,\n",
        "    algo=tpe.suggest,\n",
        "    max_evals=5,\n",
        "    trials=Trials()\n",
        ")"
      ]
    }
  ],
  "metadata": {
    "colab": {
      "authorship_tag": "ABX9TyNfjuTwzMbg59e0DeOQ4r6v",
      "include_colab_link": true,
      "mount_file_id": "1NQvkgcR0X-l8GylrThz9BjVbK-jwv6vU",
      "provenance": []
    },
    "kernelspec": {
      "display_name": "Python 3",
      "name": "python3"
    },
    "language_info": {
      "codemirror_mode": {
        "name": "ipython",
        "version": 3
      },
      "file_extension": ".py",
      "mimetype": "text/x-python",
      "name": "python",
      "nbconvert_exporter": "python",
      "pygments_lexer": "ipython3",
      "version": "3.9.7"
    }
  },
  "nbformat": 4,
  "nbformat_minor": 0
}
